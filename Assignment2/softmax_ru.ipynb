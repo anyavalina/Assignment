{
  "nbformat": 4,
  "nbformat_minor": 0,
  "metadata": {
    "kernelspec": {
      "display_name": "Python 3",
      "language": "python",
      "name": "python3"
    },
    "language_info": {
      "codemirror_mode": {
        "name": "ipython",
        "version": 3
      },
      "file_extension": ".py",
      "mimetype": "text/x-python",
      "name": "python",
      "nbconvert_exporter": "python",
      "pygments_lexer": "ipython3",
      "version": "3.7.3"
    },
    "colab": {
      "name": "softmax-ru",
      "provenance": [],
      "collapsed_sections": [],
      "toc_visible": true
    }
  },
  "cells": [
    {
      "cell_type": "markdown",
      "metadata": {
        "tags": [
          "pdf-title"
        ],
        "id": "AVQwztvj6l-L"
      },
      "source": [
        "# Линейный классификатор Softmax \n",
        "\n",
        "Для выполнения этого задания нужно будет дописать код в этом ноутбуке и внешнем файле classifiers/softmax.py \n",
        "\n",
        "Как и в упражнении с классификатором SVM, вам предстоит:\n",
        "\n",
        "- реализовать векторизованную функцию потерь (**loss**) для Softmax классификатора\n",
        "- реализовать векторизованную функцию для вычисления **аналитического градиента**\n",
        "- **проверить свою реализацию** с градиентом, вычисленным методом конечных разностей\n",
        "- **найти лучшие learning rate и regularization** с помощью валидационной выборки\n",
        "- **оптимизировать** функцию потерь с помощью градиентного спуска **SGD**\n",
        "- **визуализировать** матрицу оптимальных весов.\n"
      ]
    },
    {
      "cell_type": "code",
      "metadata": {
        "id": "nBZZi4eq6181",
        "colab": {
          "base_uri": "https://localhost:8080/"
        },
        "outputId": "4433d0b4-1463-44fc-b23e-0113a83b7d9e"
      },
      "source": [
        "!git clone https://github.com/balezz/tad_ml_dl_2021.git"
      ],
      "execution_count": null,
      "outputs": [
        {
          "output_type": "stream",
          "text": [
            "Cloning into 'tad_ml_dl_2021'...\n",
            "remote: Enumerating objects: 92, done.\u001b[K\n",
            "remote: Total 92 (delta 0), reused 0 (delta 0), pack-reused 92\u001b[K\n",
            "Unpacking objects: 100% (92/92), done.\n"
          ],
          "name": "stdout"
        }
      ]
    },
    {
      "cell_type": "code",
      "metadata": {
        "id": "IuEuIEmj66Gb",
        "colab": {
          "base_uri": "https://localhost:8080/",
          "height": 35
        },
        "outputId": "49f0dcc8-3b77-4409-9b00-c2e3203a9e12"
      },
      "source": [
        "!cd tad_ml_dl_2021/Assignment2\r\n",
        "import os\r\n",
        "os.chdir('tad_ml_dl_2021/Assignment2')\r\n",
        "os.getcwd()"
      ],
      "execution_count": null,
      "outputs": [
        {
          "output_type": "execute_result",
          "data": {
            "application/vnd.google.colaboratory.intrinsic+json": {
              "type": "string"
            },
            "text/plain": [
              "'/content/tad_ml_dl_2021/Assignment2'"
            ]
          },
          "metadata": {
            "tags": []
          },
          "execution_count": 2
        }
      ]
    },
    {
      "cell_type": "code",
      "metadata": {
        "id": "uKiH4qKr68YZ"
      },
      "source": [
        "# Подготовка к работе, импорт библиотек\r\n",
        "import random\r\n",
        "import numpy as np\r\n",
        "from lib.data_utils import load_CIFAR10\r\n",
        "import matplotlib.pyplot as plt\r\n",
        "\r\n",
        "# Изображения нужно отображать в ноутбуке.\r\n",
        "%matplotlib inline\r\n",
        "plt.rcParams['figure.figsize'] = (10.0, 8.0) # set default size of plots\r\n",
        "plt.rcParams['image.interpolation'] = 'nearest'\r\n",
        "plt.rcParams['image.cmap'] = 'gray'\r\n",
        "\r\n",
        "# Автоматическая перезагрузка модулей из файлов *.py\r\n",
        "%load_ext autoreload\r\n",
        "%autoreload 2"
      ],
      "execution_count": null,
      "outputs": []
    },
    {
      "cell_type": "code",
      "metadata": {
        "id": "n_RjdkiV8MGt",
        "colab": {
          "base_uri": "https://localhost:8080/"
        },
        "outputId": "6787dc85-c351-4bd3-d8da-81c1acb2f788"
      },
      "source": [
        "!wget http://www.cs.toronto.edu/~kriz/cifar-10-python.tar.gz -O cifar-10-python.tar.gz\r\n",
        "!tar -xzvf cifar-10-python.tar.gz "
      ],
      "execution_count": null,
      "outputs": [
        {
          "output_type": "stream",
          "text": [
            "--2021-03-10 14:46:49--  http://www.cs.toronto.edu/~kriz/cifar-10-python.tar.gz\n",
            "Resolving www.cs.toronto.edu (www.cs.toronto.edu)... 128.100.3.30\n",
            "Connecting to www.cs.toronto.edu (www.cs.toronto.edu)|128.100.3.30|:80... connected.\n",
            "HTTP request sent, awaiting response... 200 OK\n",
            "Length: 170498071 (163M) [application/x-gzip]\n",
            "Saving to: ‘cifar-10-python.tar.gz’\n",
            "\n",
            "cifar-10-python.tar 100%[===================>] 162.60M  72.2MB/s    in 2.3s    \n",
            "\n",
            "2021-03-10 14:46:52 (72.2 MB/s) - ‘cifar-10-python.tar.gz’ saved [170498071/170498071]\n",
            "\n",
            "cifar-10-batches-py/\n",
            "cifar-10-batches-py/data_batch_4\n",
            "cifar-10-batches-py/readme.html\n",
            "cifar-10-batches-py/test_batch\n",
            "cifar-10-batches-py/data_batch_3\n",
            "cifar-10-batches-py/batches.meta\n",
            "cifar-10-batches-py/data_batch_2\n",
            "cifar-10-batches-py/data_batch_5\n",
            "cifar-10-batches-py/data_batch_1\n"
          ],
          "name": "stdout"
        }
      ]
    },
    {
      "cell_type": "code",
      "metadata": {
        "id": "6eYbeWxy8NsL",
        "colab": {
          "base_uri": "https://localhost:8080/"
        },
        "outputId": "6f6268f3-1212-4ea3-d967-dd41528aae4b"
      },
      "source": [
        "!ls"
      ],
      "execution_count": null,
      "outputs": [
        {
          "output_type": "stream",
          "text": [
            "A2.csv\t\t     cifar-10-python.tar.gz  README.MD\t       softmax-ru.ipynb\n",
            "cifar-10-batches-py  lib\t\t     requirements.txt  svm-ru.ipynb\n"
          ],
          "name": "stdout"
        }
      ]
    },
    {
      "cell_type": "code",
      "metadata": {
        "tags": [
          "pdf-ignore"
        ],
        "id": "gr_V-X_56l-Q",
        "colab": {
          "base_uri": "https://localhost:8080/"
        },
        "outputId": "09e7dae7-b009-461c-8e30-f845f462f947"
      },
      "source": [
        "import random\n",
        "import numpy as np\n",
        "from lib.data_utils import load_CIFAR10\n",
        "import matplotlib.pyplot as plt\n",
        "\n",
        "%matplotlib inline\n",
        "plt.rcParams['figure.figsize'] = (10.0, 8.0) # set default size of plots\n",
        "plt.rcParams['image.interpolation'] = 'nearest'\n",
        "plt.rcParams['image.cmap'] = 'gray'\n",
        "\n",
        "%load_ext autoreload\n",
        "%autoreload 2"
      ],
      "execution_count": null,
      "outputs": [
        {
          "output_type": "stream",
          "text": [
            "The autoreload extension is already loaded. To reload it, use:\n",
            "  %reload_ext autoreload\n"
          ],
          "name": "stdout"
        }
      ]
    },
    {
      "cell_type": "code",
      "metadata": {
        "tags": [
          "pdf-ignore"
        ],
        "id": "ecWfzjz66l-R",
        "colab": {
          "base_uri": "https://localhost:8080/"
        },
        "outputId": "f0b50e68-ced6-41f1-af89-4d908ba0c761"
      },
      "source": [
        "def get_CIFAR10_data(num_training=49000, num_validation=1000, num_test=1000, num_dev=500):\n",
        "    \"\"\"\n",
        "    Загрузка датасета CIFAR-10 и нормализация данных.\n",
        "    Алгоритм такой же как в упражнении с SVM, только обернут в функцию.  \n",
        "    \"\"\"\n",
        "    cifar10_dir = './cifar-10-batches-py'\n",
        "    \n",
        "    try:\n",
        "       del X_train, y_train\n",
        "       del X_test, y_test\n",
        "       print('Clear previously loaded data.')\n",
        "    except:\n",
        "       pass\n",
        "\n",
        "    X_train, y_train, X_test, y_test = load_CIFAR10(cifar10_dir)\n",
        "    \n",
        "    mask = list(range(num_training, num_training + num_validation))\n",
        "    X_val = X_train[mask]\n",
        "    y_val = y_train[mask]\n",
        "    mask = list(range(num_training))\n",
        "    X_train = X_train[mask]\n",
        "    y_train = y_train[mask]\n",
        "    mask = list(range(num_test))\n",
        "    X_test = X_test[mask]\n",
        "    y_test = y_test[mask]\n",
        "    mask = np.random.choice(num_training, num_dev, replace=False)\n",
        "    X_dev = X_train[mask]\n",
        "    y_dev = y_train[mask]\n",
        "    \n",
        "    X_train = np.reshape(X_train, (X_train.shape[0], -1))\n",
        "    X_val = np.reshape(X_val, (X_val.shape[0], -1))\n",
        "    X_test = np.reshape(X_test, (X_test.shape[0], -1))\n",
        "    X_dev = np.reshape(X_dev, (X_dev.shape[0], -1))\n",
        "    \n",
        "    mean_image = np.mean(X_train, axis = 0)\n",
        "    X_train -= mean_image\n",
        "    X_val -= mean_image\n",
        "    X_test -= mean_image\n",
        "    X_dev -= mean_image\n",
        "    \n",
        "    X_train = np.hstack([X_train, np.ones((X_train.shape[0], 1))])\n",
        "    X_val = np.hstack([X_val, np.ones((X_val.shape[0], 1))])\n",
        "    X_test = np.hstack([X_test, np.ones((X_test.shape[0], 1))])\n",
        "    X_dev = np.hstack([X_dev, np.ones((X_dev.shape[0], 1))])\n",
        "    \n",
        "    return X_train, y_train, X_val, y_val, X_test, y_test, X_dev, y_dev\n",
        "\n",
        "\n",
        "# Вызов функции для получения подвыборок train, val, test, dev.\n",
        "X_train, y_train, X_val, y_val, X_test, y_test, X_dev, y_dev = get_CIFAR10_data()\n",
        "print('Train data shape: ', X_train.shape)\n",
        "print('Train labels shape: ', y_train.shape)\n",
        "print('Validation data shape: ', X_val.shape)\n",
        "print('Validation labels shape: ', y_val.shape)\n",
        "print('Test data shape: ', X_test.shape)\n",
        "print('Test labels shape: ', y_test.shape)\n",
        "print('dev data shape: ', X_dev.shape)\n",
        "print('dev labels shape: ', y_dev.shape)"
      ],
      "execution_count": null,
      "outputs": [
        {
          "output_type": "stream",
          "text": [
            "Train data shape:  (49000, 3073)\n",
            "Train labels shape:  (49000,)\n",
            "Validation data shape:  (1000, 3073)\n",
            "Validation labels shape:  (1000,)\n",
            "Test data shape:  (1000, 3073)\n",
            "Test labels shape:  (1000,)\n",
            "dev data shape:  (500, 3073)\n",
            "dev labels shape:  (500,)\n"
          ],
          "name": "stdout"
        }
      ]
    },
    {
      "cell_type": "markdown",
      "metadata": {
        "id": "pCh5hcYP6l-S"
      },
      "source": [
        "## Softmax Classifier\n",
        "\n",
        "Your code for this section will all be written inside `lib/classifiers/softmax.py`.\n"
      ]
    },
    {
      "cell_type": "code",
      "metadata": {
        "colab": {
          "base_uri": "https://localhost:8080/"
        },
        "id": "m-yfeMDJVYYU",
        "outputId": "dcae348e-8249-41e7-a463-0e6cae8d1dc4"
      },
      "source": [
        "!git clone https://github.com/anyavalina/anyav"
      ],
      "execution_count": null,
      "outputs": [
        {
          "output_type": "stream",
          "text": [
            "Cloning into 'anyav'...\n",
            "remote: Enumerating objects: 39, done.\u001b[K\n",
            "remote: Counting objects: 100% (39/39), done.\u001b[K\n",
            "remote: Compressing objects: 100% (26/26), done.\u001b[K\n",
            "remote: Total 39 (delta 3), reused 0 (delta 0), pack-reused 0\u001b[K\n",
            "Unpacking objects: 100% (39/39), done.\n"
          ],
          "name": "stdout"
        }
      ]
    },
    {
      "cell_type": "code",
      "metadata": {
        "id": "7roOPBSrV9n8"
      },
      "source": [
        "!cd anyav/Assignment2\n",
        "import os\n",
        "os.chdir('anyav/Assignment2')"
      ],
      "execution_count": null,
      "outputs": []
    },
    {
      "cell_type": "code",
      "metadata": {
        "id": "RXwoxkr_6l-S",
        "colab": {
          "base_uri": "https://localhost:8080/"
        },
        "outputId": "7468ed49-2f5e-49c7-e160-8b456c3ebe90"
      },
      "source": [
        "# Реализуйте функцию вычисления softmax loss в файле classifiers/softmax.py\n",
        "# с помощью циклов\n",
        "from softmax import softmax_loss_naive\n",
        "import time\n",
        "\n",
        "# Инициализируем веса значениями близкими, но не равными нулю\n",
        "W = np.random.randn(3073, 10) * 0.0001\n",
        "loss, grad = softmax_loss_naive(W, X_dev, y_dev, 0.0)\n",
        "\n",
        "# Проверим правильность реализации\n",
        "# Для 10 классов loss должен быть около -log(0.1).\n",
        "print('loss: %f' % loss)\n",
        "print('sanity check: %f' % (-np.log(0.1)))"
      ],
      "execution_count": null,
      "outputs": [
        {
          "output_type": "stream",
          "text": [
            "loss: 0.004558\n",
            "sanity check: 2.302585\n"
          ],
          "name": "stdout"
        }
      ]
    },
    {
      "cell_type": "markdown",
      "metadata": {
        "tags": [
          "pdf-inline"
        ],
        "id": "tCGadLLk6l-T"
      },
      "source": [
        "**Вопрос 1**\n",
        "\n",
        "Объясните, почему мы предположили, что для 10 классов при весах близких к нулю\n",
        " softmax loss приблизительно равен -log(0.1)?  \n",
        "$\\color{blue}{\\textit Ответ:}$ обучение не выполняется, поэтому изначально все классы будут выбраны с равной вероятностью. В CIFAR-10 у есть 10 классов, поэтому вероятность правильного класса будет 0,1, softmax loss - это отрицательная логарифмическая вероятность правильного класса, поэтому это -log (0,1).\n",
        "\n"
      ]
    },
    {
      "cell_type": "code",
      "metadata": {
        "id": "So6dB9zp6l-T",
        "colab": {
          "base_uri": "https://localhost:8080/"
        },
        "outputId": "132d92c7-2ac4-450d-d99d-4a8a110f91d2"
      },
      "source": [
        "# Дополните функцию softmax_loss_naive вычислением градиента dW\n",
        "# с помощью вложенных циклов.\n",
        "loss, grad = softmax_loss_naive(W, X_dev, y_dev, 0.0)\n",
        "\n",
        "# Как и в упражнении с SVM, используем метод конечных разностей для проверки.\n",
        "from lib.gradient_check import grad_check_sparse\n",
        "f = lambda w: softmax_loss_naive(w, X_dev, y_dev, 0.0)[0]\n",
        "grad_numerical = grad_check_sparse(f, W, grad, 10)\n",
        "\n",
        "# Тест должен быть пройден и при ненулевой регуляризации\n",
        "loss, grad = softmax_loss_naive(W, X_dev, y_dev, 5e1)\n",
        "f = lambda w: softmax_loss_naive(w, X_dev, y_dev, 5e1)[0]\n",
        "grad_numerical = grad_check_sparse(f, W, grad, 10)"
      ],
      "execution_count": null,
      "outputs": [
        {
          "output_type": "stream",
          "text": [
            "numerical: 0.002945 analytic: 0.002945, relative error: 1.255219e-08\n",
            "numerical: -0.000232 analytic: -0.000232, relative error: 1.368903e-11\n",
            "numerical: 0.007174 analytic: 0.007174, relative error: 1.691933e-08\n",
            "numerical: -0.074849 analytic: -0.074849, relative error: 1.184645e-09\n",
            "numerical: -0.001253 analytic: -0.001253, relative error: 2.303919e-09\n",
            "numerical: -0.002586 analytic: -0.002586, relative error: 1.160943e-09\n",
            "numerical: 0.002505 analytic: 0.002505, relative error: 9.225466e-09\n",
            "numerical: 0.040010 analytic: 0.040010, relative error: 6.926144e-08\n",
            "numerical: 0.003909 analytic: 0.003909, relative error: 2.161581e-08\n",
            "numerical: 0.005331 analytic: 0.005331, relative error: 1.422796e-08\n",
            "numerical: -0.003949 analytic: -0.003949, relative error: 4.278299e-08\n",
            "numerical: -0.061984 analytic: -0.061984, relative error: 1.364418e-09\n",
            "numerical: 0.051388 analytic: 0.051388, relative error: 4.195226e-08\n",
            "numerical: -0.049279 analytic: -0.049279, relative error: 3.884470e-10\n",
            "numerical: 0.012066 analytic: 0.012066, relative error: 8.941956e-08\n",
            "numerical: -0.001907 analytic: -0.001907, relative error: 8.421805e-09\n",
            "numerical: -0.007407 analytic: -0.007407, relative error: 8.834866e-12\n",
            "numerical: 0.028490 analytic: 0.028490, relative error: 7.148975e-08\n",
            "numerical: 0.041006 analytic: 0.041006, relative error: 8.552909e-08\n",
            "numerical: 0.023792 analytic: 0.023792, relative error: 5.820309e-08\n"
          ],
          "name": "stdout"
        }
      ]
    },
    {
      "cell_type": "code",
      "metadata": {
        "id": "8sqbnr-c6l-T",
        "colab": {
          "base_uri": "https://localhost:8080/"
        },
        "outputId": "9d45e97d-57be-49fa-a1b7-4555819c6b3d"
      },
      "source": [
        "# Теперь реализуем более эффективную векторизованную версию функции вычисления loss и dW\n",
        "# Оценим, насколько быстрее стали вычисления\n",
        "tic = time.time()\n",
        "loss_naive, grad_naive = softmax_loss_naive(W, X_dev, y_dev, 0.000005)\n",
        "toc = time.time()\n",
        "print('naive loss: %e computed in %fs' % (loss_naive, toc - tic))\n",
        "\n",
        "from softmax import softmax_loss_vectorized\n",
        "tic = time.time()\n",
        "loss_vectorized, grad_vectorized = softmax_loss_vectorized(W, X_dev, y_dev, 0.000005)\n",
        "toc = time.time()\n",
        "print('vectorized loss: %e computed in %fs' % (loss_vectorized, toc - tic))\n",
        "\n",
        "# Для оценки близости двух матриц градиентов используем норму Фробениуса\n",
        "grad_difference = np.linalg.norm(grad_naive - grad_vectorized, ord='fro')\n",
        "print('Loss difference: %f' % np.abs(loss_naive - loss_vectorized))\n",
        "print('Gradient difference: %f' % grad_difference)"
      ],
      "execution_count": null,
      "outputs": [
        {
          "output_type": "stream",
          "text": [
            "naive loss: 4.558316e-03 computed in 0.163735s\n",
            "vectorized loss: 2.346451e+00 computed in 0.019674s\n",
            "Loss difference: 2.341892\n",
            "Gradient difference: 339.942082\n"
          ],
          "name": "stdout"
        }
      ]
    },
    {
      "cell_type": "code",
      "metadata": {
        "id": "scBW_QWY-VQr",
        "colab": {
          "base_uri": "https://localhost:8080/"
        },
        "outputId": "0423be98-6b71-4a62-8d72-aed7821483eb"
      },
      "source": [
        "X_train.shape[0]"
      ],
      "execution_count": null,
      "outputs": [
        {
          "output_type": "execute_result",
          "data": {
            "text/plain": [
              "49000"
            ]
          },
          "metadata": {
            "tags": []
          },
          "execution_count": 13
        }
      ]
    },
    {
      "cell_type": "code",
      "metadata": {
        "id": "tuning",
        "tags": [
          "code"
        ],
        "colab": {
          "base_uri": "https://localhost:8080/"
        },
        "outputId": "f024aa54-e60e-4bd1-ea01-7e46277ffffc"
      },
      "source": [
        "# Используйте валидационную выборку для выбора лучших гиперпараметров \n",
        "# (learning rate and regularization strength)\n",
        "# Добейтесь точности не меньше 0.35 на выборке val.\n",
        "# Используйте словарь results в котором \n",
        "# ключи - кортеж  (learning_rate, regularization_strength)\n",
        "# значения - (training_accuracy, validation_accuracy)\n",
        "# Точность вычисляется как отношение числа верно предсказанных классов \n",
        "# к объему выборки\n",
        "from linear_classifier1 import Softmax\n",
        "results = {}\n",
        "best_val = -1\n",
        "best_softmax = None\n",
        "\n",
        "################################################################################\n",
        "# TODO:                                                                        #\n",
        "# Напишите код, позволяющий найти лучшее значение гиперпараметров на валидационной        #\n",
        "# выборке. Для каждой комбинации гиперпараметров обучите классификатор Softmax          #\n",
        "# на train выборке, вычислите точность на выборках train, val и сохраните             #\n",
        "# результат в словарь results. Лучшее значение точности сохраните в best_val           #\n",
        "# лучший классификатор - в best_softmax                                           #\n",
        "#                                                                              #\n",
        "# Подсказка: чтобы уменьшить время обучения, используйте dev подвыборку.                #\n",
        "# После того, как код будет реализован и отлажен, замените dev на train.              #\n",
        "################################################################################\n",
        "\n",
        "\n",
        "\n",
        "# Пример допустимых значений. Можете изменить на свое усмотрение.\n",
        "learning_rates = [1e-7, 2e-6, 2.5e-6]\n",
        "regularization_strengths = [1e3, 1e4, 2e4, 2.5e4, 3e4, 3.5e4]\n",
        "\n",
        "# *****START OF YOUR CODE (DO NOT DELETE/MODIFY THIS LINE)*****\n",
        "\n",
        "grid_search = [ (lr, rg) for lr in learning_rates for rg in regularization_strengths]\n",
        "\n",
        "for lr, rg in grid_search:\n",
        "    # Create a new Softmax instance\n",
        "    softmax_model = Softmax()\n",
        "    # Train the model with current parameters\n",
        "    softmax_model.train(X_train, y_train, learning_rate=lr, reg=rg, num_iters=554)\n",
        "    # Predict values for training set\n",
        "    y_train_pred = softmax_model.predict(X_train)\n",
        "    # Calculate accuracy\n",
        "    train_accuracy = np.mean(y_train_pred == y_train)\n",
        "    # Predict values for validation set\n",
        "    y_val_pred = softmax_model.predict(X_val)\n",
        "    # Calculate accuracy\n",
        "    val_accuracy = np.mean(y_val_pred == y_val)\n",
        "    # Save results\n",
        "    results[(lr,rg)] = (train_accuracy, val_accuracy)\n",
        "    if best_val < val_accuracy:\n",
        "        best_val = val_accuracy\n",
        "        best_softmax = softmax_model\n",
        "\n",
        "# *****END OF YOUR CODE (DO NOT DELETE/MODIFY THIS LINE)*****\n",
        "    \n",
        "# Вывод результатов.\n",
        "for lr, reg in sorted(results):\n",
        "    train_accuracy, val_accuracy = results[(lr, reg)]\n",
        "    print('lr %e reg %e train accuracy: %f val accuracy: %f' % (\n",
        "                lr, reg, train_accuracy, val_accuracy))\n",
        "    \n",
        "print('best validation accuracy achieved during cross-validation: %f' % best_val)"
      ],
      "execution_count": null,
      "outputs": [
        {
          "output_type": "stream",
          "text": [
            "lr 1.000000e-07 reg 1.000000e+03 train accuracy: 0.212898 val accuracy: 0.177000\n",
            "lr 1.000000e-07 reg 1.000000e+04 train accuracy: 0.260673 val accuracy: 0.261000\n",
            "lr 1.000000e-07 reg 2.000000e+04 train accuracy: 0.313918 val accuracy: 0.339000\n",
            "lr 1.000000e-07 reg 2.500000e+04 train accuracy: 0.315510 val accuracy: 0.330000\n",
            "lr 1.000000e-07 reg 3.000000e+04 train accuracy: 0.320653 val accuracy: 0.343000\n",
            "lr 1.000000e-07 reg 3.500000e+04 train accuracy: 0.314306 val accuracy: 0.334000\n",
            "lr 2.000000e-06 reg 1.000000e+03 train accuracy: 0.394796 val accuracy: 0.388000\n",
            "lr 2.000000e-06 reg 1.000000e+04 train accuracy: 0.345531 val accuracy: 0.360000\n",
            "lr 2.000000e-06 reg 2.000000e+04 train accuracy: 0.315551 val accuracy: 0.329000\n",
            "lr 2.000000e-06 reg 2.500000e+04 train accuracy: 0.302020 val accuracy: 0.310000\n",
            "lr 2.000000e-06 reg 3.000000e+04 train accuracy: 0.305286 val accuracy: 0.316000\n",
            "lr 2.000000e-06 reg 3.500000e+04 train accuracy: 0.296653 val accuracy: 0.310000\n",
            "lr 2.500000e-06 reg 1.000000e+03 train accuracy: 0.386163 val accuracy: 0.384000\n",
            "lr 2.500000e-06 reg 1.000000e+04 train accuracy: 0.339020 val accuracy: 0.349000\n",
            "lr 2.500000e-06 reg 2.000000e+04 train accuracy: 0.325857 val accuracy: 0.328000\n",
            "lr 2.500000e-06 reg 2.500000e+04 train accuracy: 0.292327 val accuracy: 0.288000\n",
            "lr 2.500000e-06 reg 3.000000e+04 train accuracy: 0.292510 val accuracy: 0.304000\n",
            "lr 2.500000e-06 reg 3.500000e+04 train accuracy: 0.298735 val accuracy: 0.323000\n",
            "best validation accuracy achieved during cross-validation: 0.388000\n"
          ],
          "name": "stdout"
        }
      ]
    },
    {
      "cell_type": "code",
      "metadata": {
        "id": "test",
        "colab": {
          "base_uri": "https://localhost:8080/"
        },
        "outputId": "d48d458f-c378-4e4a-cca8-75abf61b4b5f"
      },
      "source": [
        "# Точность на test выборке\n",
        "y_test_pred = best_softmax.predict(X_test)\n",
        "test_accuracy = np.mean(y_test == y_test_pred)\n",
        "print('softmax on raw pixels final test set accuracy: %f' % (test_accuracy, ))"
      ],
      "execution_count": null,
      "outputs": [
        {
          "output_type": "stream",
          "text": [
            "softmax on raw pixels final test set accuracy: 0.378000\n"
          ],
          "name": "stdout"
        }
      ]
    },
    {
      "cell_type": "markdown",
      "metadata": {
        "tags": [
          "pdf-inline"
        ],
        "id": "LxJ8DW0W6l-U"
      },
      "source": [
        "**Вопрос 2** - *Да или Нет*\n",
        "\n",
        "Суммарное значение функции потерь (loss) на всей train выборке равно сумме потерь для каждого отсчета. Существует такой отсчет (изображение), который можно добавить в train выборку, при этом значение loss для SVM классификатора не изменится. Для Softmax классификатора такого отсчета не существует.    \n",
        "  \n",
        "$\\color{blue}{\\textit Ответ:}$ Да\n",
        "\n",
        "\n",
        "$\\color{blue}{\\textit Объясните:}$ Если classifier верно определяет на train все переменные (то есть predict совпадает с train) то loss равны 0\n",
        "\n"
      ]
    },
    {
      "cell_type": "code",
      "metadata": {
        "id": "e1m5d7d26l-U",
        "colab": {
          "base_uri": "https://localhost:8080/",
          "height": 380
        },
        "outputId": "5c2d2541-844c-42bc-e5b2-5fcc73d43cf9"
      },
      "source": [
        "# Визуализируем веса W для каждого класса\n",
        "w = best_softmax.W[:-1,:] # отбросим фиктивное измерение bias\n",
        "w = w.reshape(32, 32, 3, 10)\n",
        "\n",
        "w_min, w_max = np.min(w), np.max(w)\n",
        "\n",
        "classes = ['plane', 'car', 'bird', 'cat', 'deer', 'dog', 'frog', 'horse', 'ship', 'truck']\n",
        "for i in range(10):\n",
        "    plt.subplot(2, 5, i + 1)\n",
        "    \n",
        "    # Масштабируем веса в значения от 0 до 255 для визуализации\n",
        "    wimg = 255.0 * (w[:, :, :, i].squeeze() - w_min) / (w_max - w_min)\n",
        "    plt.imshow(wimg.astype('uint8'))\n",
        "    plt.axis('off')\n",
        "    plt.title(classes[i])"
      ],
      "execution_count": null,
      "outputs": [
        {
          "output_type": "display_data",
          "data": {
            "image/png": "[encoded data removed]",
            "text/plain": [
              "<Figure size 720x576 with 10 Axes>"
            ]
          },
          "metadata": {
            "tags": [],
            "needs_background": "light"
          }
        }
      ]
    },
    {
      "cell_type": "markdown",
      "metadata": {
        "id": "77u4Ztcb6l-V"
      },
      "source": [
        "# ПОЗДРАВЛЯЕМ!\n",
        "\n",
        "Это конец задания. Не забудьте сохранить этот ноутбук и файл softmax.py"
      ]
    }
  ]
}